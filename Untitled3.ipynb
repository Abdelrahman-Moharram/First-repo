{
 "cells": [
  {
   "cell_type": "code",
   "execution_count": 1,
   "metadata": {},
   "outputs": [
    {
     "ename": "NameError",
     "evalue": "name '__file__' is not defined",
     "output_type": "error",
     "traceback": [
      "\u001b[1;31m---------------------------------------------------------------------------\u001b[0m",
      "\u001b[1;31mNameError\u001b[0m                                 Traceback (most recent call last)",
      "\u001b[1;32m<ipython-input-1-068882ec583b>\u001b[0m in \u001b[0;36m<module>\u001b[1;34m()\u001b[0m\n\u001b[0;32m     10\u001b[0m \u001b[1;31m# the good way\u001b[0m\u001b[1;33m\u001b[0m\u001b[1;33m\u001b[0m\u001b[0m\n\u001b[0;32m     11\u001b[0m \u001b[1;33m\u001b[0m\u001b[0m\n\u001b[1;32m---> 12\u001b[1;33m \u001b[0mRES_DIR\u001b[0m \u001b[1;33m=\u001b[0m \u001b[0mos\u001b[0m\u001b[1;33m.\u001b[0m\u001b[0mpath\u001b[0m\u001b[1;33m.\u001b[0m\u001b[0mjoin\u001b[0m\u001b[1;33m(\u001b[0m\u001b[0mos\u001b[0m\u001b[1;33m.\u001b[0m\u001b[0mpath\u001b[0m\u001b[1;33m.\u001b[0m\u001b[0mdirname\u001b[0m\u001b[1;33m(\u001b[0m\u001b[0mos\u001b[0m\u001b[1;33m.\u001b[0m\u001b[0mpath\u001b[0m\u001b[1;33m.\u001b[0m\u001b[0mabspath\u001b[0m\u001b[1;33m(\u001b[0m\u001b[0m__file__\u001b[0m\u001b[1;33m)\u001b[0m\u001b[1;33m)\u001b[0m\u001b[1;33m,\u001b[0m \u001b[1;34m'res'\u001b[0m\u001b[1;33m)\u001b[0m\u001b[1;33m\u001b[0m\u001b[0m\n\u001b[0m\u001b[0;32m     13\u001b[0m \u001b[0mPICKLE_DIR\u001b[0m \u001b[1;33m=\u001b[0m \u001b[0mos\u001b[0m\u001b[1;33m.\u001b[0m\u001b[0mpath\u001b[0m\u001b[1;33m.\u001b[0m\u001b[0mjoin\u001b[0m\u001b[1;33m(\u001b[0m\u001b[0mRES_DIR\u001b[0m\u001b[1;33m,\u001b[0m \u001b[1;34m'model.pkl'\u001b[0m\u001b[1;33m)\u001b[0m\u001b[1;33m\u001b[0m\u001b[0m\n\u001b[0;32m     14\u001b[0m \u001b[0mSCALER_DIR\u001b[0m \u001b[1;33m=\u001b[0m \u001b[0mos\u001b[0m\u001b[1;33m.\u001b[0m\u001b[0mpath\u001b[0m\u001b[1;33m.\u001b[0m\u001b[0mjoin\u001b[0m\u001b[1;33m(\u001b[0m\u001b[0mRES_DIR\u001b[0m\u001b[1;33m,\u001b[0m \u001b[1;34m'scale.pkl'\u001b[0m\u001b[1;33m)\u001b[0m\u001b[1;33m\u001b[0m\u001b[0m\n",
      "\u001b[1;31mNameError\u001b[0m: name '__file__' is not defined"
     ]
    }
   ],
   "source": [
    "\"\"\"\n",
    "here the user should run this file and will predict if user will purchase or not based on the trained model\n",
    "\"\"\"\n",
    "import os\n",
    "from sklearn.externals import joblib\n",
    "from sklearn.preprocessing import StandardScaler, LabelEncoder\n",
    "\n",
    "# first let's set the path of the data\n",
    "\n",
    "# the good way\n",
    "\n",
    "RES_DIR = os.path.join(os.path.dirname(os.path.abspath(__file__)), 'res')\n",
    "PICKLE_DIR = os.path.join(RES_DIR, 'model.pkl')\n",
    "SCALER_DIR = os.path.join(RES_DIR, 'scale.pkl')\n",
    "LABEL_DIR = os.path.join(RES_DIR, 'label.pkl')\n",
    "\n",
    "\n",
    "# the bad way -- don't do it that way\n",
    "\n",
    "# PICKLE_DIR = \"home/somefolder/someotherfolder/data.csv\"\n",
    "\n",
    "# load the pickles\n",
    "clf = joblib.load(PICKLE_DIR)\n",
    "scaler = joblib.load(SCALER_DIR)\n",
    "encoder = joblib.load(LABEL_DIR)\n",
    "\n",
    "\n",
    "# NOTE: you need to do the same preprocessing on the data as you did in training\n",
    "def preprocess(gender, age, salary):\n",
    "    '''\n",
    "    this function should return the values as the model expect it\n",
    "    '''\n",
    "    # encode the gender\n",
    "    gender = encoder.transform([gender])[0]\n",
    "    # scale the age and salary\n",
    "    scaled = [scaler.transform([[gender, age, salary]])][0]\n",
    "    # return the feature vector\n",
    "    return scaled\n",
    "\n",
    "\n",
    "while True:\n",
    "    values = input(\"please enter: gender, age, salary:\").split(',')\n",
    "    try:\n",
    "        values = [int(i) if index != 0 else i for index, i in enumerate(values)]\n",
    "        feature_vector = preprocess(values[0], values[1], values[2])\n",
    "        predict = clf.predict(feature_vector)\n",
    "        print(\"the prediction is : {}\".format(predict[0]))\n",
    "    except:\n",
    "        break\n",
    "print(\"thanks\")"
   ]
  }
 ],
 "metadata": {
  "kernelspec": {
   "display_name": "Python 3",
   "language": "python",
   "name": "python3"
  },
  "language_info": {
   "codemirror_mode": {
    "name": "ipython",
    "version": 3
   },
   "file_extension": ".py",
   "mimetype": "text/x-python",
   "name": "python",
   "nbconvert_exporter": "python",
   "pygments_lexer": "ipython3",
   "version": "3.6.5"
  }
 },
 "nbformat": 4,
 "nbformat_minor": 2
}
